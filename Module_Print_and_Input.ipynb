{
  "cells": [
    {
      "cell_type": "markdown",
      "metadata": {
        "id": "view-in-github",
        "colab_type": "text"
      },
      "source": [
        "<a href=\"https://colab.research.google.com/github/play-nation/Python/blob/main/Module_Print_and_Input.ipynb\" target=\"_parent\"><img src=\"https://colab.research.google.com/assets/colab-badge.svg\" alt=\"Open In Colab\"/></a>"
      ]
    },
    {
      "cell_type": "markdown",
      "id": "afc5107a",
      "metadata": {
        "id": "afc5107a"
      },
      "source": [
        "# Predefined Functions in Python\n",
        "\n",
        "Python has a rich set of predefined functions divided into two categories:\n",
        "\n",
        "1. Built-In Functions\n",
        "2. Functions Defined in Modules"
      ]
    },
    {
      "cell_type": "markdown",
      "id": "b2f09706",
      "metadata": {
        "id": "b2f09706"
      },
      "source": [
        "## Built-In Functions\n",
        "\n",
        "### `print` Function\n",
        "The `print` function is used to output text to the console.\n",
        "\n",
        "#### Example:\n",
        "```python\n",
        "print('Hello Python')\n",
        "```\n",
        "This will print the words `Hello Python` to the console."
      ]
    },
    {
      "cell_type": "code",
      "execution_count": null,
      "id": "c3ac34e1",
      "metadata": {
        "id": "c3ac34e1"
      },
      "outputs": [],
      "source": [
        "# Using the print function\n",
        "print('Hello Python')  # This will print: Hello Python"
      ]
    },
    {
      "cell_type": "markdown",
      "id": "46a1820f",
      "metadata": {
        "id": "46a1820f"
      },
      "source": [
        "### Modifying the `print` Function's Behavior\n",
        "\n",
        "The `print` function has two useful arguments: `end` and `sep`.\n",
        "\n",
        "- **`end` argument**: By default, `print` ends with a newline character. This can be changed.\n",
        "\n",
        "#### Example:\n",
        "```python\n",
        "print('Hello', end=' ')\n",
        "print('Python')\n",
        "```\n",
        "This will print: `Hello Python` on the same line."
      ]
    },
    {
      "cell_type": "code",
      "execution_count": null,
      "id": "15cf2a4d",
      "metadata": {
        "id": "15cf2a4d"
      },
      "outputs": [],
      "source": [
        "# Using the end argument in print\n",
        "print('Hello', end=' ')\n",
        "print('Python')  # This will print: Hello Python"
      ]
    },
    {
      "cell_type": "markdown",
      "id": "26f41198",
      "metadata": {
        "id": "26f41198"
      },
      "source": [
        "- **`sep` argument**: By default, `print` separates arguments with a space. This can be changed.\n",
        "\n",
        "#### Example:\n",
        "```python\n",
        "print('Hello', 'Python', sep='-')\n",
        "```\n",
        "This will print: `Hello-Python`."
      ]
    },
    {
      "cell_type": "code",
      "execution_count": null,
      "id": "d3d16a59",
      "metadata": {
        "id": "d3d16a59"
      },
      "outputs": [],
      "source": [
        "# Using the sep argument in print\n",
        "print('Hello', 'Python', sep='-')  # This will print: Hello-Python"
      ]
    },
    {
      "cell_type": "markdown",
      "id": "732668c4",
      "metadata": {
        "id": "732668c4"
      },
      "source": [
        "## Functions Defined in Modules\n",
        "\n",
        "A module in Python is a collection of functions and statements that provide additional functionality compared to built-in functions.\n",
        "\n",
        "Python has hundreds of built-in modules like `math`, `sys`, `platform`, etc., which are very useful to programmers.\n",
        "\n",
        "### Example: `math` Module\n",
        "\n",
        "The `math` module provides mathematical functions.\n",
        "\n",
        "#### Example:\n",
        "```python\n",
        "import math\n",
        "print(math.sqrt(16))\n",
        "```\n",
        "This will print: `4.0`."
      ]
    },
    {
      "cell_type": "code",
      "execution_count": null,
      "id": "fd9da3ff",
      "metadata": {
        "id": "fd9da3ff"
      },
      "outputs": [],
      "source": [
        "# Using the math module\n",
        "import math\n",
        "print(math.sqrt(16))  # This will print: 4.0"
      ]
    },
    {
      "cell_type": "markdown",
      "id": "a37999ca",
      "metadata": {
        "id": "a37999ca"
      },
      "source": [
        "# Errors in Python\n",
        "\n",
        "Python has two kinds of errors:\n",
        "1. Syntax Errors\n",
        "2. Runtime Errors\n",
        "\n",
        "## Syntax Errors\n",
        "Syntax errors occur when the rules of the language are broken.\n",
        "\n",
        "#### Examples:\n",
        "- Misspelled keywords\n",
        "- Incorrect use of operators\n",
        "- Missing parentheses\n",
        "\n",
        "#### Example:\n",
        "```python\n",
        "prin('Hello')  # This will cause a syntax error because 'print' is misspelled\n",
        "```\n"
      ]
    },
    {
      "cell_type": "code",
      "execution_count": null,
      "id": "a470a339",
      "metadata": {
        "id": "a470a339"
      },
      "outputs": [],
      "source": [
        "# Syntax error example\n",
        "# prin('Hello')  # Uncommenting this line will cause a syntax error"
      ]
    },
    {
      "cell_type": "markdown",
      "id": "88912854",
      "metadata": {
        "id": "88912854"
      },
      "source": [
        "## Runtime Errors (Exceptions)\n",
        "Runtime errors occur while the program is running.\n",
        "When Python encounters a runtime error, it halts the execution of the program and displays an error message.\n",
        "\n",
        "#### Example: Zero Division Error\n",
        "```python\n",
        "print(10 / 0)  # This will cause a runtime error because division by zero is not allowed\n",
        "```\n"
      ]
    },
    {
      "cell_type": "code",
      "execution_count": null,
      "id": "2f9aec73",
      "metadata": {
        "id": "2f9aec73"
      },
      "outputs": [],
      "source": [
        "# Runtime error example\n",
        "# print(10 / 0)  # Uncommenting this line will cause a ZeroDivisionError"
      ]
    },
    {
      "cell_type": "markdown",
      "id": "2bf4f879",
      "metadata": {
        "id": "2bf4f879"
      },
      "source": [
        "# Identifiers in Python\n",
        "\n",
        "Identifiers are names given to entities like variables, classes, functions, modules, etc.\n",
        "\n",
        "## Rules for Naming Identifiers\n",
        "1. Cannot be a reserved word. The reserved word in python are as follows. (https://docs.python.org/3/reference/lexical_analysis.html#keywords)\n",
        "2. Cannot begin with a number.\n",
        "3. Cannot contain special characters except for `_`.\n",
        "4. Can have alphanumeric characters and underscores.\n",
        "5. Are case-sensitive.\n",
        "\n",
        "#### Examples:\n",
        "- Valid: `variable1`, `_variable`, `variable_name`\n",
        "- Invalid: `1variable`, `variable-name`, `variable!`\n"
      ]
    },
    {
      "cell_type": "code",
      "execution_count": null,
      "id": "d5fc544e",
      "metadata": {
        "id": "d5fc544e"
      },
      "outputs": [],
      "source": [
        "# Valid and invalid identifiers\n",
        "# Valid identifiers\n",
        "variable1 = 10\n",
        "_variable = 20\n",
        "variable_name = 30\n",
        "\n",
        "# Invalid identifiers (Uncomment to see errors)\n",
        "# 1variable = 10  # SyntaxError\n",
        "# variable-name = 20  # SyntaxError\n",
        "# variable! = 30  # SyntaxError"
      ]
    },
    {
      "cell_type": "markdown",
      "id": "4a16ec05",
      "metadata": {
        "id": "4a16ec05"
      },
      "source": [
        "# Industry Use Case\n",
        "\n",
        "## Real-World Application of Python Functions and Error Handling\n",
        "\n",
        "1. **Scientific Computing**: The `math` module is used for performing complex mathematical calculations in scientific research and engineering.\n",
        "2. **Web Development**: Functions like `print` are used for debugging and displaying outputs during web application development.\n",
        "3. **Data Analysis**: Handling errors gracefully is crucial in data analysis pipelines to ensure robustness and reliability.\n",
        "4. **Automation**: Modules and functions are used extensively in automation scripts to handle repetitive tasks efficiently.\n",
        "5. **Software Development**: Proper error handling ensures that software applications can handle unexpected situations without crashing, improving user experience."
      ]
    },
    {
      "cell_type": "code",
      "execution_count": null,
      "id": "60e080a0-7dfb-492d-8502-27492abb3dc4",
      "metadata": {
        "id": "60e080a0-7dfb-492d-8502-27492abb3dc4"
      },
      "outputs": [],
      "source": []
    },
    {
      "cell_type": "code",
      "execution_count": null,
      "id": "1071b9ef-0bb3-44dc-be36-a3890b0b84fc",
      "metadata": {
        "id": "1071b9ef-0bb3-44dc-be36-a3890b0b84fc"
      },
      "outputs": [],
      "source": []
    },
    {
      "cell_type": "markdown",
      "id": "f6fe3925",
      "metadata": {
        "id": "f6fe3925"
      },
      "source": [
        "# Questions\n",
        "\n",
        "1. What are the two types of predefined functions in Python?\n",
        "2. How can you modify the default behavior of the `print` function?\n",
        "3. What is a module in Python? Give an example.\n",
        "4. What are syntax errors? Provide an example.\n",
        "5. What are runtime errors? Provide an example.\n",
        "6. What are identifiers in Python? List the rules for naming identifiers.\n",
        "7. Write a code snippet to demonstrate a `ZeroDivisionError`.\n",
        "8. Write a code snippet to demonstrate the use of `end` and `sep` arguments in the `print` function.\n"
      ]
    },
    {
      "cell_type": "markdown",
      "id": "38d7b6b6",
      "metadata": {
        "jp-MarkdownHeadingCollapsed": true,
        "id": "38d7b6b6"
      },
      "source": [
        "# Answers\n"
      ]
    },
    {
      "cell_type": "markdown",
      "id": "b22674ec-0ce6-4538-88e0-c414708c564f",
      "metadata": {
        "id": "b22674ec-0ce6-4538-88e0-c414708c564f"
      },
      "source": [
        "\n",
        "1. Built-in functions and functions defined in modules.\n",
        "2. By using the `end` and `sep` arguments.\n",
        "3. A collection of functions and statements. Example: `math` module.\n",
        "4. Errors due to breaking language rules. Example: `prin('Hello')`.\n",
        "5. Errors that occur while the program is running. Example: `print(10 / 0)`.\n",
        "6. Names for entities like variables, classes, functions, etc. Rules: Cannot be reserved words, cannot begin with a number, cannot contain special characters except `_`, can have alphanumeric characters and underscores, are case-sensitive.\n",
        "7.\n",
        "```python\n",
        "try:\n",
        "    print(10 / 0)\n",
        "except ZeroDivisionError as e:\n",
        "    print(f\"Error occurred: {e}\")\n",
        "```\n",
        "8.\n",
        "```python\n",
        "print('Hello', end=' ')\n",
        "print('Python')\n",
        "print('A', 'B', 'C', sep='-')\n",
        "```"
      ]
    }
  ],
  "metadata": {
    "kernelspec": {
      "display_name": "Python 3 (ipykernel)",
      "language": "python",
      "name": "python3"
    },
    "language_info": {
      "codemirror_mode": {
        "name": "ipython",
        "version": 3
      },
      "file_extension": ".py",
      "mimetype": "text/x-python",
      "name": "python",
      "nbconvert_exporter": "python",
      "pygments_lexer": "ipython3",
      "version": "3.11.5"
    },
    "colab": {
      "provenance": [],
      "toc_visible": true,
      "include_colab_link": true
    }
  },
  "nbformat": 4,
  "nbformat_minor": 5
}