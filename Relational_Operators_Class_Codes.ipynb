{
  "cells": [
    {
      "cell_type": "markdown",
      "metadata": {
        "id": "view-in-github",
        "colab_type": "text"
      },
      "source": [
        "<a href=\"https://colab.research.google.com/github/play-nation/Python/blob/main/Relational_Operators_Class_Codes.ipynb\" target=\"_parent\"><img src=\"https://colab.research.google.com/assets/colab-badge.svg\" alt=\"Open In Colab\"/></a>"
      ]
    },
    {
      "cell_type": "markdown",
      "id": "04c87f28-371b-43b2-b91d-01c2c0d3f21a",
      "metadata": {
        "id": "04c87f28-371b-43b2-b91d-01c2c0d3f21a"
      },
      "source": [
        "# Relational operators"
      ]
    },
    {
      "cell_type": "code",
      "execution_count": null,
      "id": "6c7b8f43-6992-4d80-90c4-ebb804dd87ac",
      "metadata": {
        "id": "6c7b8f43-6992-4d80-90c4-ebb804dd87ac",
        "outputId": "855858e7-21ad-4162-f13d-b88d25628805"
      },
      "outputs": [
        {
          "name": "stdout",
          "output_type": "stream",
          "text": [
            "10 == 5: False\n",
            "10 != 5: True\n",
            "10 > 5: True\n",
            "10 < 5: False\n",
            "10 >= 5: True\n",
            "10 <= 5: False\n"
          ]
        }
      ],
      "source": [
        "a = 10\n",
        "b = 5\n",
        "\n",
        "print(f'{a} == {b}:', a == b)  # False\n",
        "print(f'{a} != {b}:', a != b)  # True\n",
        "print(f'{a} > {b}:', a > b)    # True\n",
        "print(f'{a} < {b}:', a < b)    # False\n",
        "print(f'{a} >= {b}:', a >= b)  # True\n",
        "print(f'{a} <= {b}:', a <= b)  # False"
      ]
    },
    {
      "cell_type": "code",
      "execution_count": null,
      "id": "3d93528d-0d18-47b8-8e63-36c5abd1d3a0",
      "metadata": {
        "id": "3d93528d-0d18-47b8-8e63-36c5abd1d3a0",
        "outputId": "39dc3e74-cf99-4a8d-ee57-83d20081e4b4"
      },
      "outputs": [
        {
          "data": {
            "text/plain": [
              "True"
            ]
          },
          "execution_count": 9,
          "metadata": {},
          "output_type": "execute_result"
        }
      ],
      "source": [
        "10 > 5"
      ]
    },
    {
      "cell_type": "code",
      "execution_count": null,
      "id": "921c423a-fa51-48de-b084-2606e6d92631",
      "metadata": {
        "id": "921c423a-fa51-48de-b084-2606e6d92631"
      },
      "outputs": [],
      "source": []
    },
    {
      "cell_type": "code",
      "execution_count": null,
      "id": "fbe9c2d8-ef84-484c-abc2-2a57c00b6e2c",
      "metadata": {
        "id": "fbe9c2d8-ef84-484c-abc2-2a57c00b6e2c"
      },
      "outputs": [],
      "source": [
        "s1 = \"small\"\n",
        "s2 = \"big\""
      ]
    },
    {
      "cell_type": "code",
      "execution_count": null,
      "id": "ca85af3a-51b3-46fe-bcff-3bbc0c35cbde",
      "metadata": {
        "id": "ca85af3a-51b3-46fe-bcff-3bbc0c35cbde",
        "outputId": "399ecc71-ddab-4961-a40d-dfc7d610b17e"
      },
      "outputs": [
        {
          "data": {
            "text/plain": [
              "('s', 'b')"
            ]
          },
          "execution_count": 19,
          "metadata": {},
          "output_type": "execute_result"
        }
      ],
      "source": [
        "s1[0], s2[0]"
      ]
    },
    {
      "cell_type": "code",
      "execution_count": null,
      "id": "793f7b4e-1db1-42e0-9d30-81f0322c2933",
      "metadata": {
        "id": "793f7b4e-1db1-42e0-9d30-81f0322c2933",
        "outputId": "b20fec7d-5fd5-456e-a836-e4bb1ace6b55"
      },
      "outputs": [
        {
          "data": {
            "text/plain": [
              "115"
            ]
          },
          "execution_count": 22,
          "metadata": {},
          "output_type": "execute_result"
        }
      ],
      "source": [
        "ord('s')"
      ]
    },
    {
      "cell_type": "code",
      "execution_count": null,
      "id": "f4b8031d-2417-4784-ac34-9f4f17a14a99",
      "metadata": {
        "id": "f4b8031d-2417-4784-ac34-9f4f17a14a99",
        "outputId": "886317ef-a51a-46cc-8fda-75a49755fe7d"
      },
      "outputs": [
        {
          "data": {
            "text/plain": [
              "98"
            ]
          },
          "execution_count": 26,
          "metadata": {},
          "output_type": "execute_result"
        }
      ],
      "source": [
        "ord('b')"
      ]
    },
    {
      "cell_type": "code",
      "execution_count": null,
      "id": "7f02bb9b-abe2-42ed-ad47-73eb25a650f6",
      "metadata": {
        "id": "7f02bb9b-abe2-42ed-ad47-73eb25a650f6",
        "outputId": "9d36c3a3-cfdb-4f59-a70a-c98831b8b852"
      },
      "outputs": [
        {
          "data": {
            "text/plain": [
              "True"
            ]
          },
          "execution_count": 29,
          "metadata": {},
          "output_type": "execute_result"
        }
      ],
      "source": [
        "115 > 98"
      ]
    },
    {
      "cell_type": "code",
      "execution_count": null,
      "id": "96a422ce-c2c3-45ee-a2b0-2eec55906aac",
      "metadata": {
        "id": "96a422ce-c2c3-45ee-a2b0-2eec55906aac",
        "outputId": "1aaf069b-b001-46ae-acd4-2fe3fd369c1b"
      },
      "outputs": [
        {
          "data": {
            "text/plain": [
              "True"
            ]
          },
          "execution_count": 31,
          "metadata": {},
          "output_type": "execute_result"
        }
      ],
      "source": [
        "s1 > s2"
      ]
    },
    {
      "cell_type": "code",
      "execution_count": null,
      "id": "11c15efb-a481-407d-b21c-688b10ed020a",
      "metadata": {
        "id": "11c15efb-a481-407d-b21c-688b10ed020a"
      },
      "outputs": [],
      "source": [
        "s3 = 'sssa'\n",
        "s4 = 'sssA'"
      ]
    },
    {
      "cell_type": "code",
      "execution_count": null,
      "id": "fbe222d2-ba28-4792-9eaf-f1dabd8d783d",
      "metadata": {
        "id": "fbe222d2-ba28-4792-9eaf-f1dabd8d783d",
        "outputId": "e553ad8c-7182-4ea2-f53a-ca4778894b84"
      },
      "outputs": [
        {
          "data": {
            "text/plain": [
              "('a', 'A')"
            ]
          },
          "execution_count": 56,
          "metadata": {},
          "output_type": "execute_result"
        }
      ],
      "source": [
        "s3[3],s4[3]"
      ]
    },
    {
      "cell_type": "code",
      "execution_count": null,
      "id": "2914cf5c-c324-4731-bfd4-d4da9df9bbaf",
      "metadata": {
        "id": "2914cf5c-c324-4731-bfd4-d4da9df9bbaf",
        "outputId": "e6200d5c-fa57-4322-8414-8b08931da8ca"
      },
      "outputs": [
        {
          "data": {
            "text/plain": [
              "(97, 65)"
            ]
          },
          "execution_count": 62,
          "metadata": {},
          "output_type": "execute_result"
        }
      ],
      "source": [
        "ord('a'),ord('A')"
      ]
    },
    {
      "cell_type": "code",
      "execution_count": null,
      "id": "13b2e8d9-503b-4970-b83a-12ab33d933e0",
      "metadata": {
        "id": "13b2e8d9-503b-4970-b83a-12ab33d933e0",
        "outputId": "c68ead8f-4a7f-47c6-e954-80084b696419"
      },
      "outputs": [
        {
          "data": {
            "text/plain": [
              "False"
            ]
          },
          "execution_count": 58,
          "metadata": {},
          "output_type": "execute_result"
        }
      ],
      "source": [
        "s3==s4"
      ]
    },
    {
      "cell_type": "code",
      "execution_count": null,
      "id": "eed881f4-8f8f-48e7-9486-c4371db0ca66",
      "metadata": {
        "id": "eed881f4-8f8f-48e7-9486-c4371db0ca66",
        "outputId": "554fc473-7404-4fc0-82b4-c0671b755339"
      },
      "outputs": [
        {
          "data": {
            "text/plain": [
              "True"
            ]
          },
          "execution_count": 64,
          "metadata": {},
          "output_type": "execute_result"
        }
      ],
      "source": [
        "s3 > s4"
      ]
    },
    {
      "cell_type": "code",
      "execution_count": null,
      "id": "329073eb-c779-4a9b-baf9-cbe7dd8cd856",
      "metadata": {
        "id": "329073eb-c779-4a9b-baf9-cbe7dd8cd856",
        "outputId": "5de0377c-bded-4b7f-bb4d-c19d5dae5d9a"
      },
      "outputs": [
        {
          "data": {
            "text/plain": [
              "122"
            ]
          },
          "execution_count": 71,
          "metadata": {},
          "output_type": "execute_result"
        }
      ],
      "source": [
        "ord('z')"
      ]
    },
    {
      "cell_type": "code",
      "execution_count": null,
      "id": "caf116e9-f409-4a63-a7aa-30da4771567c",
      "metadata": {
        "id": "caf116e9-f409-4a63-a7aa-30da4771567c",
        "outputId": "6a1d9ca8-de28-4583-aa0d-cb0a8593fcae"
      },
      "outputs": [
        {
          "data": {
            "text/plain": [
              "33"
            ]
          },
          "execution_count": 67,
          "metadata": {},
          "output_type": "execute_result"
        }
      ],
      "source": [
        "ord('!')"
      ]
    },
    {
      "cell_type": "code",
      "execution_count": null,
      "id": "f644cfde-7001-4496-ba21-e222d1785391",
      "metadata": {
        "id": "f644cfde-7001-4496-ba21-e222d1785391",
        "outputId": "d92706c9-484b-4f51-c75c-009777d2cc56"
      },
      "outputs": [
        {
          "data": {
            "text/plain": [
              "True"
            ]
          },
          "execution_count": 75,
          "metadata": {},
          "output_type": "execute_result"
        }
      ],
      "source": [
        "'!zzzzzaaa' < 'a'"
      ]
    },
    {
      "cell_type": "code",
      "execution_count": null,
      "id": "d1fb2535-9f58-4851-9cc0-acf3e6880c20",
      "metadata": {
        "id": "d1fb2535-9f58-4851-9cc0-acf3e6880c20",
        "outputId": "198f7b28-e535-4315-dde3-46abf792c18e"
      },
      "outputs": [
        {
          "data": {
            "text/plain": [
              "True"
            ]
          },
          "execution_count": 85,
          "metadata": {},
          "output_type": "execute_result"
        }
      ],
      "source": [
        "'aa'>  'a'"
      ]
    },
    {
      "cell_type": "code",
      "execution_count": null,
      "id": "f71b5822-c2f8-4df6-9aef-3ea974b9fa75",
      "metadata": {
        "id": "f71b5822-c2f8-4df6-9aef-3ea974b9fa75"
      },
      "outputs": [],
      "source": []
    },
    {
      "cell_type": "code",
      "execution_count": null,
      "id": "61a0d64d-20d9-44e7-9347-c2f32bfcf5e3",
      "metadata": {
        "id": "61a0d64d-20d9-44e7-9347-c2f32bfcf5e3",
        "outputId": "b8b57b66-73b5-4c5b-9013-624df8c78e58"
      },
      "outputs": [
        {
          "name": "stdout",
          "output_type": "stream",
          "text": [
            "True\n",
            "True\n",
            "True\n"
          ]
        }
      ],
      "source": [
        "print(1 < 2 < 3)  # True\n",
        "print(1<2)\n",
        "print(2<3)"
      ]
    },
    {
      "cell_type": "code",
      "execution_count": null,
      "id": "9b79c636-4263-46bd-9ebe-404bb39edc17",
      "metadata": {
        "id": "9b79c636-4263-46bd-9ebe-404bb39edc17",
        "outputId": "7eff5afa-c9fb-4e04-9784-4e6e23c9dc61"
      },
      "outputs": [
        {
          "name": "stdout",
          "output_type": "stream",
          "text": [
            "False\n",
            "True\n",
            "False\n"
          ]
        }
      ],
      "source": [
        "print(1 < 2 > 3)  # False\n",
        "print(1<2)\n",
        "print(2>3)"
      ]
    },
    {
      "cell_type": "code",
      "execution_count": null,
      "id": "1eb82cdd-8049-43a5-aacb-ae9d89c3fa0f",
      "metadata": {
        "id": "1eb82cdd-8049-43a5-aacb-ae9d89c3fa0f",
        "outputId": "3b26b704-fc56-4ebb-a77a-e63998a4a8ad"
      },
      "outputs": [
        {
          "data": {
            "text/plain": [
              "True"
            ]
          },
          "execution_count": 98,
          "metadata": {},
          "output_type": "execute_result"
        }
      ],
      "source": [
        "15 == 15.0"
      ]
    },
    {
      "cell_type": "code",
      "execution_count": null,
      "id": "01d0ef00-85ca-4515-95c9-62d5f8ac51cc",
      "metadata": {
        "id": "01d0ef00-85ca-4515-95c9-62d5f8ac51cc",
        "outputId": "d0d117df-29f3-4b4e-aa0f-2dfdb5e07488"
      },
      "outputs": [
        {
          "data": {
            "text/plain": [
              "False"
            ]
          },
          "execution_count": 100,
          "metadata": {},
          "output_type": "execute_result"
        }
      ],
      "source": [
        "15 == '15'"
      ]
    },
    {
      "cell_type": "code",
      "execution_count": null,
      "id": "f1debf6b-0e28-426c-b7fc-be4919864e62",
      "metadata": {
        "id": "f1debf6b-0e28-426c-b7fc-be4919864e62",
        "outputId": "d054d53f-4003-4de8-9984-949b48be1a46"
      },
      "outputs": [
        {
          "data": {
            "text/plain": [
              "True"
            ]
          },
          "execution_count": 102,
          "metadata": {},
          "output_type": "execute_result"
        }
      ],
      "source": [
        "True == 1"
      ]
    },
    {
      "cell_type": "code",
      "execution_count": null,
      "id": "1b25fc4f-15e2-412b-896d-e4d721e56338",
      "metadata": {
        "id": "1b25fc4f-15e2-412b-896d-e4d721e56338",
        "outputId": "0e770105-f9a3-4c98-fb18-b83f98c395ca"
      },
      "outputs": [
        {
          "data": {
            "text/plain": [
              "False"
            ]
          },
          "execution_count": 104,
          "metadata": {},
          "output_type": "execute_result"
        }
      ],
      "source": [
        "True == 0"
      ]
    },
    {
      "cell_type": "code",
      "execution_count": null,
      "id": "a17cdfaa-6500-4e71-8c41-bf67c0d2d77c",
      "metadata": {
        "id": "a17cdfaa-6500-4e71-8c41-bf67c0d2d77c",
        "outputId": "f65ca34a-bad5-4c28-a82c-0e38b34b095b"
      },
      "outputs": [
        {
          "data": {
            "text/plain": [
              "True"
            ]
          },
          "execution_count": 108,
          "metadata": {},
          "output_type": "execute_result"
        }
      ],
      "source": [
        "0 == False"
      ]
    },
    {
      "cell_type": "code",
      "execution_count": null,
      "id": "95f63d7f-c9ba-4558-8ca9-04551f3b7da4",
      "metadata": {
        "id": "95f63d7f-c9ba-4558-8ca9-04551f3b7da4",
        "outputId": "b15d17ae-2442-4066-be62-fef4ca8c4a87"
      },
      "outputs": [
        {
          "data": {
            "text/plain": [
              "True"
            ]
          },
          "execution_count": 111,
          "metadata": {},
          "output_type": "execute_result"
        }
      ],
      "source": [
        "'15' != 15"
      ]
    },
    {
      "cell_type": "code",
      "execution_count": null,
      "id": "7772d6b2-4f78-4e12-b885-c9f9619c63a0",
      "metadata": {
        "id": "7772d6b2-4f78-4e12-b885-c9f9619c63a0",
        "outputId": "9d3002aa-d70b-41f9-9840-62dca889ab63"
      },
      "outputs": [
        {
          "data": {
            "text/plain": [
              "True"
            ]
          },
          "execution_count": 113,
          "metadata": {},
          "output_type": "execute_result"
        }
      ],
      "source": [
        "1.0 == 1"
      ]
    },
    {
      "cell_type": "code",
      "execution_count": null,
      "id": "f5e65421-4b68-4286-9979-b8d754258930",
      "metadata": {
        "id": "f5e65421-4b68-4286-9979-b8d754258930",
        "outputId": "cb7312a0-d858-4b1b-e07d-771b13161dbd"
      },
      "outputs": [
        {
          "data": {
            "text/plain": [
              "False"
            ]
          },
          "execution_count": 115,
          "metadata": {},
          "output_type": "execute_result"
        }
      ],
      "source": [
        "1.1 == 1"
      ]
    },
    {
      "cell_type": "code",
      "execution_count": null,
      "id": "79a4ea34-1e86-4b5a-ad7a-37ef96774dc4",
      "metadata": {
        "id": "79a4ea34-1e86-4b5a-ad7a-37ef96774dc4",
        "outputId": "27e59c95-c698-4292-c965-442a206e8cb0"
      },
      "outputs": [
        {
          "data": {
            "text/plain": [
              "True"
            ]
          },
          "execution_count": 119,
          "metadata": {},
          "output_type": "execute_result"
        }
      ],
      "source": [
        "'True' == str(True)"
      ]
    },
    {
      "cell_type": "code",
      "execution_count": null,
      "id": "3f2a8c89-8a2a-43d2-a92f-5162ba96c420",
      "metadata": {
        "id": "3f2a8c89-8a2a-43d2-a92f-5162ba96c420",
        "outputId": "421d7440-af2f-4cab-dff5-c88f43af63e4"
      },
      "outputs": [
        {
          "data": {
            "text/plain": [
              "'True'"
            ]
          },
          "execution_count": 121,
          "metadata": {},
          "output_type": "execute_result"
        }
      ],
      "source": [
        "str(True)"
      ]
    }
  ],
  "metadata": {
    "kernelspec": {
      "display_name": "Python 3 (ipykernel)",
      "language": "python",
      "name": "python3"
    },
    "language_info": {
      "codemirror_mode": {
        "name": "ipython",
        "version": 3
      },
      "file_extension": ".py",
      "mimetype": "text/x-python",
      "name": "python",
      "nbconvert_exporter": "python",
      "pygments_lexer": "ipython3",
      "version": "3.11.5"
    },
    "colab": {
      "provenance": [],
      "include_colab_link": true
    }
  },
  "nbformat": 4,
  "nbformat_minor": 5
}