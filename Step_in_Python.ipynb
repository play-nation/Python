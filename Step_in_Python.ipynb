{
  "cells": [
    {
      "cell_type": "markdown",
      "metadata": {
        "id": "view-in-github",
        "colab_type": "text"
      },
      "source": [
        "<a href=\"https://colab.research.google.com/github/play-nation/Python/blob/main/Step_in_Python.ipynb\" target=\"_parent\"><img src=\"https://colab.research.google.com/assets/colab-badge.svg\" alt=\"Open In Colab\"/></a>"
      ]
    },
    {
      "cell_type": "code",
      "execution_count": null,
      "id": "a127fc7e-5ec9-41c0-9020-e342e9d9e572",
      "metadata": {
        "id": "a127fc7e-5ec9-41c0-9020-e342e9d9e572"
      },
      "outputs": [],
      "source": [
        "s = 'python'"
      ]
    },
    {
      "cell_type": "code",
      "execution_count": null,
      "id": "7b9304b7-b95f-4ba3-83e1-84e93aaf86dd",
      "metadata": {
        "id": "7b9304b7-b95f-4ba3-83e1-84e93aaf86dd"
      },
      "outputs": [],
      "source": []
    },
    {
      "cell_type": "code",
      "execution_count": null,
      "id": "975bcc80-bfb7-4280-8476-50e9e790e81d",
      "metadata": {
        "id": "975bcc80-bfb7-4280-8476-50e9e790e81d",
        "outputId": "5749e624-b4b1-42d3-b512-c9a58b2bd8bd"
      },
      "outputs": [
        {
          "data": {
            "text/plain": [
              "'tho'"
            ]
          },
          "execution_count": 7,
          "metadata": {},
          "output_type": "execute_result"
        }
      ],
      "source": [
        "s [ -4:-1]"
      ]
    },
    {
      "cell_type": "code",
      "execution_count": null,
      "id": "29c94986-7cac-4b9a-b998-c0828748dc9b",
      "metadata": {
        "id": "29c94986-7cac-4b9a-b998-c0828748dc9b"
      },
      "outputs": [],
      "source": []
    },
    {
      "cell_type": "code",
      "execution_count": null,
      "id": "8ec56395-cf36-4805-81a9-1bf583ee6b83",
      "metadata": {
        "id": "8ec56395-cf36-4805-81a9-1bf583ee6b83",
        "outputId": "b58331c2-3f72-47cc-a396-efd41c7a83a9"
      },
      "outputs": [
        {
          "data": {
            "text/plain": [
              "'ho'"
            ]
          },
          "execution_count": 9,
          "metadata": {},
          "output_type": "execute_result"
        }
      ],
      "source": [
        "s[-3:-1]"
      ]
    },
    {
      "cell_type": "code",
      "execution_count": null,
      "id": "0d9e6e78-a054-4f76-8933-4be4fb8ca87c",
      "metadata": {
        "id": "0d9e6e78-a054-4f76-8933-4be4fb8ca87c",
        "outputId": "45c4753e-7010-4001-c727-f6bf79194807"
      },
      "outputs": [
        {
          "data": {
            "text/plain": [
              "'python'"
            ]
          },
          "execution_count": 11,
          "metadata": {},
          "output_type": "execute_result"
        }
      ],
      "source": [
        "s[:1000000000]"
      ]
    },
    {
      "cell_type": "code",
      "execution_count": null,
      "id": "f3816594-e1a8-49a1-86e8-e5bd7c54ada9",
      "metadata": {
        "id": "f3816594-e1a8-49a1-86e8-e5bd7c54ada9",
        "outputId": "0832cc2f-3709-46a1-abfc-01214ca86c6a"
      },
      "outputs": [
        {
          "data": {
            "text/plain": [
              "''"
            ]
          },
          "execution_count": 13,
          "metadata": {},
          "output_type": "execute_result"
        }
      ],
      "source": [
        "s[100:10000]"
      ]
    },
    {
      "cell_type": "code",
      "execution_count": null,
      "id": "e583e328-4d77-4a38-a4bc-1511adfe8a0a",
      "metadata": {
        "id": "e583e328-4d77-4a38-a4bc-1511adfe8a0a",
        "outputId": "c282d2d7-5538-4724-a0ad-247d6029f231"
      },
      "outputs": [
        {
          "data": {
            "text/plain": [
              "''"
            ]
          },
          "execution_count": 15,
          "metadata": {},
          "output_type": "execute_result"
        }
      ],
      "source": [
        "s[-2:-6]"
      ]
    },
    {
      "cell_type": "code",
      "execution_count": null,
      "id": "dee00998-6f33-4763-a192-ea96a88b029d",
      "metadata": {
        "id": "dee00998-6f33-4763-a192-ea96a88b029d",
        "outputId": "6dcf99ad-0e8f-4c33-d4d9-6358372ab52a"
      },
      "outputs": [
        {
          "data": {
            "text/plain": [
              "'python'"
            ]
          },
          "execution_count": 19,
          "metadata": {},
          "output_type": "execute_result"
        }
      ],
      "source": [
        "s"
      ]
    },
    {
      "cell_type": "code",
      "execution_count": null,
      "id": "c999a37c-6d01-4f76-b237-8525a8e63caf",
      "metadata": {
        "id": "c999a37c-6d01-4f76-b237-8525a8e63caf",
        "outputId": "3c3a720f-8c08-42ad-9677-2bc940776488"
      },
      "outputs": [
        {
          "data": {
            "text/plain": [
              "'pto'"
            ]
          },
          "execution_count": 17,
          "metadata": {},
          "output_type": "execute_result"
        }
      ],
      "source": [
        "s[0:len(s):2]"
      ]
    },
    {
      "cell_type": "code",
      "execution_count": null,
      "id": "5ec840fe-81e4-4729-ab72-f5eac6b2bdb1",
      "metadata": {
        "id": "5ec840fe-81e4-4729-ab72-f5eac6b2bdb1"
      },
      "outputs": [],
      "source": []
    },
    {
      "cell_type": "code",
      "execution_count": null,
      "id": "9501ba6f-5a1e-4f56-b5f0-40955e48dac6",
      "metadata": {
        "id": "9501ba6f-5a1e-4f56-b5f0-40955e48dac6",
        "outputId": "ceb6c52c-b50a-4660-c0f7-444dc0df1fc8"
      },
      "outputs": [
        {
          "data": {
            "text/plain": [
              "'python'"
            ]
          },
          "execution_count": 23,
          "metadata": {},
          "output_type": "execute_result"
        }
      ],
      "source": [
        "s"
      ]
    },
    {
      "cell_type": "code",
      "execution_count": null,
      "id": "3d095a9b-dd1e-49d3-8ff5-4a8d8f6a3f0c",
      "metadata": {
        "id": "3d095a9b-dd1e-49d3-8ff5-4a8d8f6a3f0c",
        "outputId": "61568b11-b584-49f9-cbd5-0047c85ba3d2"
      },
      "outputs": [
        {
          "data": {
            "text/plain": [
              "'pytho'"
            ]
          },
          "execution_count": 28,
          "metadata": {},
          "output_type": "execute_result"
        }
      ],
      "source": [
        "s[0:5]"
      ]
    },
    {
      "cell_type": "code",
      "execution_count": null,
      "id": "904ad373-33f9-4578-8e1e-98635a99cd15",
      "metadata": {
        "id": "904ad373-33f9-4578-8e1e-98635a99cd15",
        "outputId": "765d782c-59fc-4fc9-8bca-339952c4b251"
      },
      "outputs": [
        {
          "data": {
            "text/plain": [
              "'pytho'"
            ]
          },
          "execution_count": 30,
          "metadata": {},
          "output_type": "execute_result"
        }
      ],
      "source": [
        "s[0:5:1]"
      ]
    },
    {
      "cell_type": "code",
      "execution_count": null,
      "id": "9e5372c7-ae27-4c6d-9a4e-c8e2ed1f39c2",
      "metadata": {
        "id": "9e5372c7-ae27-4c6d-9a4e-c8e2ed1f39c2",
        "outputId": "c5145679-1578-46e4-a901-0813b30cbf46"
      },
      "outputs": [
        {
          "data": {
            "text/plain": [
              "'pto'"
            ]
          },
          "execution_count": 32,
          "metadata": {},
          "output_type": "execute_result"
        }
      ],
      "source": [
        "s[0:5:2]"
      ]
    },
    {
      "cell_type": "code",
      "execution_count": null,
      "id": "c71330be-b67c-4750-970d-49022d2394ca",
      "metadata": {
        "id": "c71330be-b67c-4750-970d-49022d2394ca"
      },
      "outputs": [],
      "source": []
    },
    {
      "cell_type": "code",
      "execution_count": null,
      "id": "c662926a-232d-4efa-8c37-a758230b6d67",
      "metadata": {
        "id": "c662926a-232d-4efa-8c37-a758230b6d67",
        "outputId": "0daacd1f-fb97-4cfb-c62e-fe203d9522c8"
      },
      "outputs": [
        {
          "data": {
            "text/plain": [
              "''"
            ]
          },
          "execution_count": 36,
          "metadata": {},
          "output_type": "execute_result"
        }
      ],
      "source": [
        "s[5:0]"
      ]
    },
    {
      "cell_type": "code",
      "execution_count": null,
      "id": "4a2292e0-9d51-4456-b4c4-fecf7905fdce",
      "metadata": {
        "id": "4a2292e0-9d51-4456-b4c4-fecf7905fdce",
        "outputId": "0d6bd11f-19af-4545-9e48-53b010ae49ed"
      },
      "outputs": [
        {
          "data": {
            "text/plain": [
              "''"
            ]
          },
          "execution_count": 42,
          "metadata": {},
          "output_type": "execute_result"
        }
      ],
      "source": [
        "s[5:0:3]"
      ]
    },
    {
      "cell_type": "code",
      "execution_count": null,
      "id": "0f7f24d9-1f24-4377-b11e-438c7a439ea4",
      "metadata": {
        "id": "0f7f24d9-1f24-4377-b11e-438c7a439ea4"
      },
      "outputs": [],
      "source": []
    },
    {
      "cell_type": "code",
      "execution_count": null,
      "id": "b6356c68-4be7-4ede-acd2-8f1097828efa",
      "metadata": {
        "id": "b6356c68-4be7-4ede-acd2-8f1097828efa",
        "outputId": "87036f14-d16c-47bf-ca1b-50186197ff7e"
      },
      "outputs": [
        {
          "data": {
            "text/plain": [
              "'nohty'"
            ]
          },
          "execution_count": 46,
          "metadata": {},
          "output_type": "execute_result"
        }
      ],
      "source": [
        "s[5:0:-1]"
      ]
    },
    {
      "cell_type": "code",
      "execution_count": null,
      "id": "bad3ba10-b238-49d9-9b41-9aaa30341c7b",
      "metadata": {
        "id": "bad3ba10-b238-49d9-9b41-9aaa30341c7b",
        "outputId": "deb460ff-e64d-49cd-a617-4f0a5e0a17ee"
      },
      "outputs": [
        {
          "data": {
            "text/plain": [
              "'nhy'"
            ]
          },
          "execution_count": 50,
          "metadata": {},
          "output_type": "execute_result"
        }
      ],
      "source": [
        "s[5:0:-2]"
      ]
    },
    {
      "cell_type": "code",
      "execution_count": null,
      "id": "2f0a697b-091b-412a-bfa5-07edc7ff38c2",
      "metadata": {
        "id": "2f0a697b-091b-412a-bfa5-07edc7ff38c2",
        "outputId": "0519dfb3-1d0d-4f68-c263-d78651032bbb"
      },
      "outputs": [
        {
          "data": {
            "text/plain": [
              "'pyt'"
            ]
          },
          "execution_count": 56,
          "metadata": {},
          "output_type": "execute_result"
        }
      ],
      "source": [
        "s[-6:3]"
      ]
    },
    {
      "cell_type": "code",
      "execution_count": null,
      "id": "938af7b4-8975-4f7a-b67b-1264fd11d85e",
      "metadata": {
        "id": "938af7b4-8975-4f7a-b67b-1264fd11d85e",
        "outputId": "3c5f8d81-7564-4539-895a-556775c7246a"
      },
      "outputs": [
        {
          "data": {
            "text/plain": [
              "('p', 'h')"
            ]
          },
          "execution_count": 60,
          "metadata": {},
          "output_type": "execute_result"
        }
      ],
      "source": [
        "s[-6],s[3]"
      ]
    },
    {
      "cell_type": "code",
      "execution_count": null,
      "id": "48e6f9ad-33c0-48db-84ee-55ffb7c1eb45",
      "metadata": {
        "id": "48e6f9ad-33c0-48db-84ee-55ffb7c1eb45",
        "outputId": "9670f5d0-1860-4206-d988-ae269965e900"
      },
      "outputs": [
        {
          "data": {
            "text/plain": [
              "'pt'"
            ]
          },
          "execution_count": 62,
          "metadata": {},
          "output_type": "execute_result"
        }
      ],
      "source": [
        "s[-6:3:2]"
      ]
    },
    {
      "cell_type": "code",
      "execution_count": null,
      "id": "620c5ff2-4ff9-4cbd-a860-14105ecd1b47",
      "metadata": {
        "id": "620c5ff2-4ff9-4cbd-a860-14105ecd1b47"
      },
      "outputs": [],
      "source": []
    }
  ],
  "metadata": {
    "kernelspec": {
      "display_name": "Python 3 (ipykernel)",
      "language": "python",
      "name": "python3"
    },
    "language_info": {
      "codemirror_mode": {
        "name": "ipython",
        "version": 3
      },
      "file_extension": ".py",
      "mimetype": "text/x-python",
      "name": "python",
      "nbconvert_exporter": "python",
      "pygments_lexer": "ipython3",
      "version": "3.11.5"
    },
    "colab": {
      "provenance": [],
      "include_colab_link": true
    }
  },
  "nbformat": 4,
  "nbformat_minor": 5
}