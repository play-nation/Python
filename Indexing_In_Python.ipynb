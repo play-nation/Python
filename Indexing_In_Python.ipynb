{
  "cells": [
    {
      "cell_type": "markdown",
      "metadata": {
        "id": "view-in-github",
        "colab_type": "text"
      },
      "source": [
        "<a href=\"https://colab.research.google.com/github/play-nation/Python/blob/main/Indexing_In_Python.ipynb\" target=\"_parent\"><img src=\"https://colab.research.google.com/assets/colab-badge.svg\" alt=\"Open In Colab\"/></a>"
      ]
    },
    {
      "cell_type": "markdown",
      "id": "754fcc05-0e30-455b-8eda-a3e97314194a",
      "metadata": {
        "id": "754fcc05-0e30-455b-8eda-a3e97314194a"
      },
      "source": [
        "# Indexing in Python"
      ]
    },
    {
      "cell_type": "markdown",
      "id": "4a9c6b34-7d3a-4a36-ba6e-09bbdb63c029",
      "metadata": {
        "id": "4a9c6b34-7d3a-4a36-ba6e-09bbdb63c029"
      },
      "source": [
        "In Python, sequences like strings are stored in continuous memory locations. We can access individual elements (characters of a string) using indexing. Each character in the memory location is assigned an index which starts from 0. Programmers count from 0 and the last element has the index `len(sequence) - 1`."
      ]
    },
    {
      "cell_type": "code",
      "execution_count": null,
      "id": "67e90e95-577f-4e20-ac0e-a1e087c0315b",
      "metadata": {
        "id": "67e90e95-577f-4e20-ac0e-a1e087c0315b"
      },
      "outputs": [],
      "source": [
        "s = \"python\""
      ]
    },
    {
      "cell_type": "code",
      "execution_count": null,
      "id": "3f65e4e1-7622-44e9-92dd-88200d948341",
      "metadata": {
        "id": "3f65e4e1-7622-44e9-92dd-88200d948341"
      },
      "outputs": [],
      "source": []
    },
    {
      "cell_type": "code",
      "execution_count": null,
      "id": "dd69e74d-fa67-4e37-a271-ab4e01cc0a6c",
      "metadata": {
        "id": "dd69e74d-fa67-4e37-a271-ab4e01cc0a6c",
        "outputId": "7c25bd58-d81b-48fc-ae6b-5f0b3271c6f6"
      },
      "outputs": [
        {
          "name": "stdout",
          "output_type": "stream",
          "text": [
            "p\n",
            "y\n",
            "t\n",
            "h\n",
            "o\n",
            "n\n"
          ]
        }
      ],
      "source": [
        "print(s[0])\n",
        "print(s[1])\n",
        "print(s[2])\n",
        "print(s[3])\n",
        "print(s[4])\n",
        "print(s[5])"
      ]
    },
    {
      "cell_type": "code",
      "execution_count": null,
      "id": "5273a496-6aa8-4b58-81f2-cabc4b9efd77",
      "metadata": {
        "id": "5273a496-6aa8-4b58-81f2-cabc4b9efd77",
        "outputId": "b44751b2-06e2-4f6c-ad61-7a006986b6bf"
      },
      "outputs": [
        {
          "ename": "IndexError",
          "evalue": "string index out of range",
          "output_type": "error",
          "traceback": [
            "\u001b[0;31m---------------------------------------------------------------------------\u001b[0m",
            "\u001b[0;31mIndexError\u001b[0m                                Traceback (most recent call last)",
            "Cell \u001b[0;32mIn[12], line 1\u001b[0m\n\u001b[0;32m----> 1\u001b[0m \u001b[38;5;28mprint\u001b[39m(s[\u001b[38;5;241m6\u001b[39m])\n",
            "\u001b[0;31mIndexError\u001b[0m: string index out of range"
          ]
        }
      ],
      "source": [
        "print(s[6])"
      ]
    },
    {
      "cell_type": "code",
      "execution_count": null,
      "id": "e83e9e7a-a88e-435b-8d93-b371d0bfd30b",
      "metadata": {
        "id": "e83e9e7a-a88e-435b-8d93-b371d0bfd30b",
        "outputId": "2c5c0bba-0548-4721-d84b-aafccaaa66ed"
      },
      "outputs": [
        {
          "data": {
            "text/plain": [
              "6"
            ]
          },
          "execution_count": 33,
          "metadata": {},
          "output_type": "execute_result"
        }
      ],
      "source": [
        "len(s)"
      ]
    },
    {
      "cell_type": "code",
      "execution_count": null,
      "id": "be8d6ff5-3e0b-493b-b819-674f01a9ee88",
      "metadata": {
        "id": "be8d6ff5-3e0b-493b-b819-674f01a9ee88"
      },
      "outputs": [],
      "source": [
        "s1 = \"mayank aggarwal\""
      ]
    },
    {
      "cell_type": "code",
      "execution_count": null,
      "id": "3df02d2c-b148-47ef-8580-8235a7e274b3",
      "metadata": {
        "id": "3df02d2c-b148-47ef-8580-8235a7e274b3",
        "outputId": "299e51f1-afd7-41f2-b6c4-99e8ea4c1e12"
      },
      "outputs": [
        {
          "data": {
            "text/plain": [
              "15"
            ]
          },
          "execution_count": 31,
          "metadata": {},
          "output_type": "execute_result"
        }
      ],
      "source": [
        "len(s1)"
      ]
    },
    {
      "cell_type": "code",
      "execution_count": null,
      "id": "17a57634-de6a-4c5d-aa5b-92970fe59788",
      "metadata": {
        "id": "17a57634-de6a-4c5d-aa5b-92970fe59788",
        "outputId": "73de7e0b-24d1-4824-a406-fddc29e82b6a"
      },
      "outputs": [
        {
          "data": {
            "text/plain": [
              "' '"
            ]
          },
          "execution_count": 27,
          "metadata": {},
          "output_type": "execute_result"
        }
      ],
      "source": [
        "s1[6]"
      ]
    },
    {
      "cell_type": "code",
      "execution_count": null,
      "id": "86d83bfa-7bf6-4c0b-9dfc-aac717215acc",
      "metadata": {
        "id": "86d83bfa-7bf6-4c0b-9dfc-aac717215acc",
        "outputId": "423d4fd3-53f6-4463-a8c8-8a19bdb089ae"
      },
      "outputs": [
        {
          "data": {
            "text/plain": [
              "'l'"
            ]
          },
          "execution_count": 25,
          "metadata": {},
          "output_type": "execute_result"
        }
      ],
      "source": [
        "s1 [ len(s1)-1]"
      ]
    },
    {
      "cell_type": "code",
      "execution_count": null,
      "id": "146d7b93-e552-450e-98ec-e180d9f18317",
      "metadata": {
        "id": "146d7b93-e552-450e-98ec-e180d9f18317",
        "outputId": "45ef0af0-e149-4a6b-cf9f-ceff1847661a"
      },
      "outputs": [
        {
          "data": {
            "text/plain": [
              "'python'"
            ]
          },
          "execution_count": 39,
          "metadata": {},
          "output_type": "execute_result"
        }
      ],
      "source": [
        "s"
      ]
    },
    {
      "cell_type": "code",
      "execution_count": null,
      "id": "4969ab9d-aa0a-4b52-9328-cb5d74d06fd4",
      "metadata": {
        "id": "4969ab9d-aa0a-4b52-9328-cb5d74d06fd4",
        "outputId": "ecacd409-4663-4875-95a2-2494df4352e6"
      },
      "outputs": [
        {
          "name": "stdout",
          "output_type": "stream",
          "text": [
            "n\n",
            "o\n",
            "h\n",
            "t\n",
            "y\n",
            "p\n"
          ]
        }
      ],
      "source": [
        "print(s[-1])\n",
        "print(s[-2])\n",
        "print(s[-3])\n",
        "print(s[-4])\n",
        "print(s[-5])\n",
        "print(s[-6])"
      ]
    },
    {
      "cell_type": "code",
      "execution_count": null,
      "id": "f22161e5-c746-49cf-a9be-367222f846b7",
      "metadata": {
        "id": "f22161e5-c746-49cf-a9be-367222f846b7",
        "outputId": "535a6cf1-32a0-4d69-d531-b9a9905f3dcb"
      },
      "outputs": [
        {
          "ename": "IndexError",
          "evalue": "string index out of range",
          "output_type": "error",
          "traceback": [
            "\u001b[0;31m---------------------------------------------------------------------------\u001b[0m",
            "\u001b[0;31mIndexError\u001b[0m                                Traceback (most recent call last)",
            "Cell \u001b[0;32mIn[45], line 1\u001b[0m\n\u001b[0;32m----> 1\u001b[0m \u001b[38;5;28mprint\u001b[39m(s[\u001b[38;5;241m-\u001b[39m\u001b[38;5;241m7\u001b[39m])\n",
            "\u001b[0;31mIndexError\u001b[0m: string index out of range"
          ]
        }
      ],
      "source": [
        "print(s[-7])"
      ]
    },
    {
      "cell_type": "code",
      "execution_count": null,
      "id": "d1993ef4-d197-4407-b75f-f180aeba718b",
      "metadata": {
        "id": "d1993ef4-d197-4407-b75f-f180aeba718b"
      },
      "outputs": [],
      "source": []
    }
  ],
  "metadata": {
    "kernelspec": {
      "display_name": "Python 3 (ipykernel)",
      "language": "python",
      "name": "python3"
    },
    "language_info": {
      "codemirror_mode": {
        "name": "ipython",
        "version": 3
      },
      "file_extension": ".py",
      "mimetype": "text/x-python",
      "name": "python",
      "nbconvert_exporter": "python",
      "pygments_lexer": "ipython3",
      "version": "3.11.5"
    },
    "colab": {
      "provenance": [],
      "include_colab_link": true
    }
  },
  "nbformat": 4,
  "nbformat_minor": 5
}