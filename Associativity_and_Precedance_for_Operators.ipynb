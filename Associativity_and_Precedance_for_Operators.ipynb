{
  "cells": [
    {
      "cell_type": "markdown",
      "metadata": {
        "id": "view-in-github",
        "colab_type": "text"
      },
      "source": [
        "<a href=\"https://colab.research.google.com/github/play-nation/Python/blob/main/Associativity_and_Precedance_for_Operators.ipynb\" target=\"_parent\"><img src=\"https://colab.research.google.com/assets/colab-badge.svg\" alt=\"Open In Colab\"/></a>"
      ]
    },
    {
      "cell_type": "markdown",
      "id": "785dc6e1-3e38-418e-994a-92189c18e220",
      "metadata": {
        "id": "785dc6e1-3e38-418e-994a-92189c18e220"
      },
      "source": [
        "# Precedance and Associativity of Operators"
      ]
    },
    {
      "cell_type": "markdown",
      "id": "49ab25b4-39a4-47f2-8f85-5155694925c4",
      "metadata": {
        "id": "49ab25b4-39a4-47f2-8f85-5155694925c4"
      },
      "source": [
        "10 + 20 * 30 is calculated as 10 + (20 * 30)\n",
        "and not as (10 + 20) * 30"
      ]
    },
    {
      "cell_type": "code",
      "execution_count": null,
      "id": "6f6df7b3-027e-4ce3-8a57-d5ba29029913",
      "metadata": {
        "id": "6f6df7b3-027e-4ce3-8a57-d5ba29029913",
        "outputId": "de22df88-46c0-45ac-9b8a-5a3e526c6a57"
      },
      "outputs": [
        {
          "data": {
            "text/plain": [
              "84.0"
            ]
          },
          "execution_count": 11,
          "metadata": {},
          "output_type": "execute_result"
        }
      ],
      "source": [
        "6/2 + 3**4"
      ]
    },
    {
      "cell_type": "code",
      "execution_count": null,
      "id": "9961cf52-6205-41cf-a21e-f8758812eae7",
      "metadata": {
        "id": "9961cf52-6205-41cf-a21e-f8758812eae7"
      },
      "outputs": [],
      "source": []
    },
    {
      "cell_type": "code",
      "execution_count": null,
      "id": "c64553cc-b88f-4796-8220-8e76d635c80f",
      "metadata": {
        "id": "c64553cc-b88f-4796-8220-8e76d635c80f",
        "outputId": "ffbd5a4d-2df1-4da7-f1ca-0810d0c39126"
      },
      "outputs": [
        {
          "data": {
            "text/plain": [
              "512"
            ]
          },
          "execution_count": 14,
          "metadata": {},
          "output_type": "execute_result"
        }
      ],
      "source": [
        "2 ** 3 ** 2"
      ]
    },
    {
      "cell_type": "code",
      "execution_count": null,
      "id": "162902d8-b77e-47ec-ba5c-a95191ab97fc",
      "metadata": {
        "id": "162902d8-b77e-47ec-ba5c-a95191ab97fc",
        "outputId": "c6817c54-b327-4af4-8343-6ae8f8d657cb"
      },
      "outputs": [
        {
          "data": {
            "text/plain": [
              "3"
            ]
          },
          "execution_count": 16,
          "metadata": {},
          "output_type": "execute_result"
        }
      ],
      "source": [
        "5*2//3"
      ]
    }
  ],
  "metadata": {
    "kernelspec": {
      "display_name": "Python 3 (ipykernel)",
      "language": "python",
      "name": "python3"
    },
    "language_info": {
      "codemirror_mode": {
        "name": "ipython",
        "version": 3
      },
      "file_extension": ".py",
      "mimetype": "text/x-python",
      "name": "python",
      "nbconvert_exporter": "python",
      "pygments_lexer": "ipython3",
      "version": "3.11.5"
    },
    "colab": {
      "provenance": [],
      "include_colab_link": true
    }
  },
  "nbformat": 4,
  "nbformat_minor": 5
}