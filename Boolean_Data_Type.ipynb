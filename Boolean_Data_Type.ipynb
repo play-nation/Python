{
  "cells": [
    {
      "cell_type": "markdown",
      "metadata": {
        "id": "view-in-github",
        "colab_type": "text"
      },
      "source": [
        "<a href=\"https://colab.research.google.com/github/play-nation/Python/blob/main/Boolean_Data_Type.ipynb\" target=\"_parent\"><img src=\"https://colab.research.google.com/assets/colab-badge.svg\" alt=\"Open In Colab\"/></a>"
      ]
    },
    {
      "cell_type": "code",
      "execution_count": null,
      "id": "9b0304ec-09a6-42c6-9131-378cd1a8659b",
      "metadata": {
        "id": "9b0304ec-09a6-42c6-9131-378cd1a8659b"
      },
      "outputs": [],
      "source": [
        "a = False\n",
        "b= True"
      ]
    },
    {
      "cell_type": "code",
      "execution_count": null,
      "id": "4253ddcb-9000-4386-9162-c6d1a6d0e4d8",
      "metadata": {
        "id": "4253ddcb-9000-4386-9162-c6d1a6d0e4d8"
      },
      "outputs": [],
      "source": []
    },
    {
      "cell_type": "code",
      "execution_count": null,
      "id": "cd56b856-c321-409c-b22a-eef44a0ab913",
      "metadata": {
        "id": "cd56b856-c321-409c-b22a-eef44a0ab913",
        "outputId": "0210fc0f-6d77-4522-919b-7ea1b9b58cb7"
      },
      "outputs": [
        {
          "ename": "NameError",
          "evalue": "name 'false' is not defined",
          "output_type": "error",
          "traceback": [
            "\u001b[0;31m---------------------------------------------------------------------------\u001b[0m",
            "\u001b[0;31mNameError\u001b[0m                                 Traceback (most recent call last)",
            "Cell \u001b[0;32mIn[4], line 1\u001b[0m\n\u001b[0;32m----> 1\u001b[0m a \u001b[38;5;241m=\u001b[39m false\n",
            "\u001b[0;31mNameError\u001b[0m: name 'false' is not defined"
          ]
        }
      ],
      "source": [
        "a = false"
      ]
    },
    {
      "cell_type": "code",
      "execution_count": null,
      "id": "babd1770-4ca5-4c28-bad9-799a4a11769a",
      "metadata": {
        "id": "babd1770-4ca5-4c28-bad9-799a4a11769a",
        "outputId": "1c9e4bcf-51ee-4dc4-a2b2-dd229ff5b0bc"
      },
      "outputs": [
        {
          "ename": "NameError",
          "evalue": "name 'true' is not defined",
          "output_type": "error",
          "traceback": [
            "\u001b[0;31m---------------------------------------------------------------------------\u001b[0m",
            "\u001b[0;31mNameError\u001b[0m                                 Traceback (most recent call last)",
            "Cell \u001b[0;32mIn[6], line 1\u001b[0m\n\u001b[0;32m----> 1\u001b[0m true\n",
            "\u001b[0;31mNameError\u001b[0m: name 'true' is not defined"
          ]
        }
      ],
      "source": [
        "true\n"
      ]
    },
    {
      "cell_type": "code",
      "execution_count": null,
      "id": "21a7e560-a386-41ee-a675-b016f02db41f",
      "metadata": {
        "id": "21a7e560-a386-41ee-a675-b016f02db41f",
        "outputId": "350da7e3-572a-4890-c017-e7c4f86e6452"
      },
      "outputs": [
        {
          "data": {
            "text/plain": [
              "(True, False)"
            ]
          },
          "execution_count": 10,
          "metadata": {},
          "output_type": "execute_result"
        }
      ],
      "source": [
        "True, False"
      ]
    },
    {
      "cell_type": "code",
      "execution_count": null,
      "id": "5c2dbc7d-f49f-4a4c-a2e9-f703b7b0aacd",
      "metadata": {
        "id": "5c2dbc7d-f49f-4a4c-a2e9-f703b7b0aacd",
        "outputId": "e2348551-d65d-4a0e-a68f-77ce399630e0"
      },
      "outputs": [
        {
          "data": {
            "text/plain": [
              "False"
            ]
          },
          "execution_count": 13,
          "metadata": {},
          "output_type": "execute_result"
        }
      ],
      "source": [
        "3>5"
      ]
    },
    {
      "cell_type": "code",
      "execution_count": null,
      "id": "d0c69ea2-355d-4bba-80f1-230764798114",
      "metadata": {
        "id": "d0c69ea2-355d-4bba-80f1-230764798114",
        "outputId": "8f37e82f-3497-4279-c75d-113bd8e0fb63"
      },
      "outputs": [
        {
          "data": {
            "text/plain": [
              "True"
            ]
          },
          "execution_count": 25,
          "metadata": {},
          "output_type": "execute_result"
        }
      ],
      "source": [
        "res = 7>3\n",
        "res"
      ]
    },
    {
      "cell_type": "code",
      "execution_count": null,
      "id": "3cada9f9-1cd7-4df8-b931-4455978eb013",
      "metadata": {
        "id": "3cada9f9-1cd7-4df8-b931-4455978eb013"
      },
      "outputs": [],
      "source": [
        "a =True\n",
        "b = True\n",
        "c = a+b"
      ]
    },
    {
      "cell_type": "code",
      "execution_count": null,
      "id": "4afb1352-1313-4e88-8816-bbdb7fd5e192",
      "metadata": {
        "id": "4afb1352-1313-4e88-8816-bbdb7fd5e192",
        "outputId": "69636987-ac22-4980-f879-c0aa8fb4cf65"
      },
      "outputs": [
        {
          "name": "stdout",
          "output_type": "stream",
          "text": [
            "2\n"
          ]
        }
      ],
      "source": [
        "print(c)"
      ]
    },
    {
      "cell_type": "code",
      "execution_count": null,
      "id": "c6b266ef-c0fc-49d4-9231-6075f500e692",
      "metadata": {
        "id": "c6b266ef-c0fc-49d4-9231-6075f500e692",
        "outputId": "5d2fd2b0-448c-44ab-e670-ed17f8a774c8"
      },
      "outputs": [
        {
          "name": "stdout",
          "output_type": "stream",
          "text": [
            "1\n"
          ]
        }
      ],
      "source": [
        "d = False\n",
        "print(a+d)"
      ]
    }
  ],
  "metadata": {
    "kernelspec": {
      "display_name": "Python 3 (ipykernel)",
      "language": "python",
      "name": "python3"
    },
    "language_info": {
      "codemirror_mode": {
        "name": "ipython",
        "version": 3
      },
      "file_extension": ".py",
      "mimetype": "text/x-python",
      "name": "python",
      "nbconvert_exporter": "python",
      "pygments_lexer": "ipython3",
      "version": "3.11.5"
    },
    "colab": {
      "provenance": [],
      "include_colab_link": true
    }
  },
  "nbformat": 4,
  "nbformat_minor": 5
}