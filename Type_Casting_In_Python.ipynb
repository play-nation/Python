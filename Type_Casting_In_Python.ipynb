{
  "cells": [
    {
      "cell_type": "markdown",
      "metadata": {
        "id": "view-in-github",
        "colab_type": "text"
      },
      "source": [
        "<a href=\"https://colab.research.google.com/github/play-nation/Python/blob/main/Type_Casting_In_Python.ipynb\" target=\"_parent\"><img src=\"https://colab.research.google.com/assets/colab-badge.svg\" alt=\"Open In Colab\"/></a>"
      ]
    },
    {
      "cell_type": "markdown",
      "id": "ca6171de-7e6f-4b19-aef3-e229c8ceffc6",
      "metadata": {
        "id": "ca6171de-7e6f-4b19-aef3-e229c8ceffc6"
      },
      "source": [
        "# Type Conversion"
      ]
    },
    {
      "cell_type": "code",
      "execution_count": null,
      "id": "6eed53b1-d799-4aa3-bd08-5430dd9d12c7",
      "metadata": {
        "id": "6eed53b1-d799-4aa3-bd08-5430dd9d12c7"
      },
      "outputs": [],
      "source": [
        "f1 = 4.5\n",
        "s1= '5'"
      ]
    },
    {
      "cell_type": "code",
      "execution_count": null,
      "id": "3a2d615b-afdb-4d21-b7de-18bc7b85ae7f",
      "metadata": {
        "id": "3a2d615b-afdb-4d21-b7de-18bc7b85ae7f",
        "outputId": "1ff462c2-5389-4be8-bea8-8a4641199ef4"
      },
      "outputs": [
        {
          "data": {
            "text/plain": [
              "'5'"
            ]
          },
          "execution_count": 7,
          "metadata": {},
          "output_type": "execute_result"
        }
      ],
      "source": [
        "s1"
      ]
    },
    {
      "cell_type": "code",
      "execution_count": null,
      "id": "add316a4-bc4d-44db-a1b3-b25d777d5ac7",
      "metadata": {
        "id": "add316a4-bc4d-44db-a1b3-b25d777d5ac7",
        "outputId": "aa8e792e-0d44-42d9-989d-b9cb17bd99e9"
      },
      "outputs": [
        {
          "ename": "TypeError",
          "evalue": "can only concatenate str (not \"float\") to str",
          "output_type": "error",
          "traceback": [
            "\u001b[0;31m---------------------------------------------------------------------------\u001b[0m",
            "\u001b[0;31mTypeError\u001b[0m                                 Traceback (most recent call last)",
            "Cell \u001b[0;32mIn[11], line 1\u001b[0m\n\u001b[0;32m----> 1\u001b[0m s1\u001b[38;5;241m+\u001b[39mf1\n",
            "\u001b[0;31mTypeError\u001b[0m: can only concatenate str (not \"float\") to str"
          ]
        }
      ],
      "source": [
        "s1+f1"
      ]
    },
    {
      "cell_type": "code",
      "execution_count": null,
      "id": "fcd08901-bcff-4917-a6c9-32c275a38fc3",
      "metadata": {
        "id": "fcd08901-bcff-4917-a6c9-32c275a38fc3",
        "outputId": "9ac2ced2-e755-40db-e031-3acb0adef905"
      },
      "outputs": [
        {
          "data": {
            "text/plain": [
              "5"
            ]
          },
          "execution_count": 25,
          "metadata": {},
          "output_type": "execute_result"
        }
      ],
      "source": [
        "integralValueOfS1 = int(s1)\n",
        "integralValueOfS1"
      ]
    },
    {
      "cell_type": "code",
      "execution_count": null,
      "id": "4e6a3718-cc5c-476d-8c87-b9e3bdf609d4",
      "metadata": {
        "id": "4e6a3718-cc5c-476d-8c87-b9e3bdf609d4",
        "outputId": "9bd8a3e2-6e94-4e9b-afc6-4a04a23fef42"
      },
      "outputs": [
        {
          "data": {
            "text/plain": [
              "(3, 1)"
            ]
          },
          "execution_count": 31,
          "metadata": {},
          "output_type": "execute_result"
        }
      ],
      "source": [
        "int(3.6),int(True)"
      ]
    },
    {
      "cell_type": "code",
      "execution_count": null,
      "id": "64cb3ecf-9f07-4d25-b609-7783186d1c87",
      "metadata": {
        "id": "64cb3ecf-9f07-4d25-b609-7783186d1c87",
        "outputId": "43b5fff5-de26-4862-b1ca-92ff454d2a8f"
      },
      "outputs": [
        {
          "ename": "ValueError",
          "evalue": "invalid literal for int() with base 10: 'python'",
          "output_type": "error",
          "traceback": [
            "\u001b[0;31m---------------------------------------------------------------------------\u001b[0m",
            "\u001b[0;31mValueError\u001b[0m                                Traceback (most recent call last)",
            "Cell \u001b[0;32mIn[37], line 1\u001b[0m\n\u001b[0;32m----> 1\u001b[0m \u001b[38;5;28mint\u001b[39m(\u001b[38;5;124m'\u001b[39m\u001b[38;5;124mpython\u001b[39m\u001b[38;5;124m'\u001b[39m)\n",
            "\u001b[0;31mValueError\u001b[0m: invalid literal for int() with base 10: 'python'"
          ]
        }
      ],
      "source": [
        "int('python')"
      ]
    },
    {
      "cell_type": "code",
      "execution_count": null,
      "id": "cca1fdab-00b1-4b8e-a2c8-e967576927ac",
      "metadata": {
        "id": "cca1fdab-00b1-4b8e-a2c8-e967576927ac",
        "outputId": "5b5d0563-5e5b-4983-f7be-41c1df6f9bfd"
      },
      "outputs": [
        {
          "ename": "TypeError",
          "evalue": "int() argument must be a string, a bytes-like object or a real number, not 'complex'",
          "output_type": "error",
          "traceback": [
            "\u001b[0;31m---------------------------------------------------------------------------\u001b[0m",
            "\u001b[0;31mTypeError\u001b[0m                                 Traceback (most recent call last)",
            "Cell \u001b[0;32mIn[39], line 1\u001b[0m\n\u001b[0;32m----> 1\u001b[0m \u001b[38;5;28mint\u001b[39m(\u001b[38;5;241m3\u001b[39m\u001b[38;5;241m+\u001b[39m\u001b[38;5;241m4\u001b[39mj)\n",
            "\u001b[0;31mTypeError\u001b[0m: int() argument must be a string, a bytes-like object or a real number, not 'complex'"
          ]
        }
      ],
      "source": [
        "int(3+4j)\n"
      ]
    },
    {
      "cell_type": "code",
      "execution_count": null,
      "id": "9208e4c6-09ad-42a9-b486-834d4a67f3b8",
      "metadata": {
        "id": "9208e4c6-09ad-42a9-b486-834d4a67f3b8",
        "outputId": "17d673c1-74a7-4eff-ec77-57b6615a928b"
      },
      "outputs": [
        {
          "data": {
            "text/plain": [
              "(3, 3)"
            ]
          },
          "execution_count": 41,
          "metadata": {},
          "output_type": "execute_result"
        }
      ],
      "source": [
        "int(3.8), int(3.1)"
      ]
    },
    {
      "cell_type": "code",
      "execution_count": null,
      "id": "071eb796-a99b-4ac4-a34c-de635e86e9b5",
      "metadata": {
        "id": "071eb796-a99b-4ac4-a34c-de635e86e9b5"
      },
      "outputs": [],
      "source": []
    },
    {
      "cell_type": "code",
      "execution_count": null,
      "id": "b68fa0f9-4101-4e40-8221-e3f62d7e44f1",
      "metadata": {
        "id": "b68fa0f9-4101-4e40-8221-e3f62d7e44f1",
        "outputId": "2743ce58-e9e7-4e8f-e5b6-4f07a78ad90d"
      },
      "outputs": [
        {
          "data": {
            "text/plain": [
              "True"
            ]
          },
          "execution_count": 47,
          "metadata": {},
          "output_type": "execute_result"
        }
      ],
      "source": [
        "bool(\"python\")"
      ]
    },
    {
      "cell_type": "code",
      "execution_count": null,
      "id": "84fa66f3-c89d-41b9-8da2-c71e555d6bbf",
      "metadata": {
        "id": "84fa66f3-c89d-41b9-8da2-c71e555d6bbf",
        "outputId": "84d8dd68-565a-4015-ab44-d97819493623"
      },
      "outputs": [
        {
          "data": {
            "text/plain": [
              "False"
            ]
          },
          "execution_count": 49,
          "metadata": {},
          "output_type": "execute_result"
        }
      ],
      "source": [
        "bool('')"
      ]
    },
    {
      "cell_type": "code",
      "execution_count": null,
      "id": "8247e21c-e898-457f-8e0b-a51be8887234",
      "metadata": {
        "id": "8247e21c-e898-457f-8e0b-a51be8887234",
        "outputId": "68e40c78-eb59-4a64-f0ea-10597d809b9d"
      },
      "outputs": [
        {
          "data": {
            "text/plain": [
              "False"
            ]
          },
          "execution_count": 51,
          "metadata": {},
          "output_type": "execute_result"
        }
      ],
      "source": [
        "bool(0)"
      ]
    },
    {
      "cell_type": "code",
      "execution_count": null,
      "id": "90521d93-2115-4add-9537-e9b7bec932ad",
      "metadata": {
        "id": "90521d93-2115-4add-9537-e9b7bec932ad",
        "outputId": "e804a738-2e90-4d28-c38c-5f2c9926ad69"
      },
      "outputs": [
        {
          "data": {
            "text/plain": [
              "True"
            ]
          },
          "execution_count": 53,
          "metadata": {},
          "output_type": "execute_result"
        }
      ],
      "source": [
        "bool(1)"
      ]
    },
    {
      "cell_type": "code",
      "execution_count": null,
      "id": "47a518e8-6bee-45e1-8a6e-9cf5fcac4d63",
      "metadata": {
        "id": "47a518e8-6bee-45e1-8a6e-9cf5fcac4d63"
      },
      "outputs": [],
      "source": []
    },
    {
      "cell_type": "code",
      "execution_count": null,
      "id": "32733efc-4738-4601-8ca6-d2dfa95bb42d",
      "metadata": {
        "id": "32733efc-4738-4601-8ca6-d2dfa95bb42d"
      },
      "outputs": [],
      "source": [
        "'eafa'"
      ]
    },
    {
      "cell_type": "code",
      "execution_count": null,
      "id": "cc6fbda2-61cf-468e-af4f-3ef506afbe32",
      "metadata": {
        "id": "cc6fbda2-61cf-468e-af4f-3ef506afbe32"
      },
      "outputs": [],
      "source": []
    },
    {
      "cell_type": "code",
      "execution_count": null,
      "id": "27a1174a-4060-4e88-b377-c385550b1aa1",
      "metadata": {
        "id": "27a1174a-4060-4e88-b377-c385550b1aa1",
        "outputId": "91c17a3b-daa7-41a4-9422-b86629f5b677"
      },
      "outputs": [
        {
          "data": {
            "text/plain": [
              "'False'"
            ]
          },
          "execution_count": 60,
          "metadata": {},
          "output_type": "execute_result"
        }
      ],
      "source": [
        "str(False)"
      ]
    },
    {
      "cell_type": "code",
      "execution_count": null,
      "id": "25ed0a15-fb60-4f99-8e5e-eaecd9494efa",
      "metadata": {
        "id": "25ed0a15-fb60-4f99-8e5e-eaecd9494efa"
      },
      "outputs": [],
      "source": [
        "s1 = str([1,2])"
      ]
    },
    {
      "cell_type": "code",
      "execution_count": null,
      "id": "e70860e1-6f74-42da-97bf-280e0b275de5",
      "metadata": {
        "id": "e70860e1-6f74-42da-97bf-280e0b275de5",
        "outputId": "e4b70651-6ae2-47cd-bd7b-998c4ed5e062"
      },
      "outputs": [
        {
          "data": {
            "text/plain": [
              "']'"
            ]
          },
          "execution_count": 76,
          "metadata": {},
          "output_type": "execute_result"
        }
      ],
      "source": [
        "s1[5]"
      ]
    },
    {
      "cell_type": "code",
      "execution_count": null,
      "id": "1de8f63b-e15f-431e-9424-fd2c6e508fcd",
      "metadata": {
        "id": "1de8f63b-e15f-431e-9424-fd2c6e508fcd"
      },
      "outputs": [],
      "source": []
    },
    {
      "cell_type": "markdown",
      "id": "61657502-bf70-4412-b131-e66e37fc1803",
      "metadata": {
        "id": "61657502-bf70-4412-b131-e66e37fc1803"
      },
      "source": [
        "# Implicit"
      ]
    },
    {
      "cell_type": "code",
      "execution_count": null,
      "id": "f0ffdfd1-6526-49d7-84f1-c6d843aea8a4",
      "metadata": {
        "id": "f0ffdfd1-6526-49d7-84f1-c6d843aea8a4"
      },
      "outputs": [],
      "source": [
        "a = 3\n",
        "b = 4.5"
      ]
    },
    {
      "cell_type": "code",
      "execution_count": null,
      "id": "80d82285-e823-49b0-aa07-cc1faebcbf9f",
      "metadata": {
        "id": "80d82285-e823-49b0-aa07-cc1faebcbf9f",
        "outputId": "d08b3434-535e-4ec0-d955-49d562ec8e2e"
      },
      "outputs": [
        {
          "name": "stdout",
          "output_type": "stream",
          "text": [
            "7.5\n",
            "<class 'float'>\n"
          ]
        }
      ],
      "source": [
        "c = a+b\n",
        "print(c)\n",
        "print(type(c))"
      ]
    },
    {
      "cell_type": "code",
      "execution_count": null,
      "id": "dbb4efd1-d22b-4b6b-b6c1-a68d861db085",
      "metadata": {
        "id": "dbb4efd1-d22b-4b6b-b6c1-a68d861db085",
        "outputId": "c4a576d5-d94a-467e-e477-d7e2053d8076"
      },
      "outputs": [
        {
          "name": "stdout",
          "output_type": "stream",
          "text": [
            "4\n",
            "<class 'int'>\n"
          ]
        }
      ],
      "source": [
        "d = True\n",
        "e = a+d\n",
        "\n",
        "print(e)\n",
        "print(type(e))"
      ]
    },
    {
      "cell_type": "code",
      "execution_count": null,
      "id": "1394340b-9770-4b30-9fdd-592eb4d2c029",
      "metadata": {
        "id": "1394340b-9770-4b30-9fdd-592eb4d2c029"
      },
      "outputs": [],
      "source": []
    }
  ],
  "metadata": {
    "kernelspec": {
      "display_name": "Python 3 (ipykernel)",
      "language": "python",
      "name": "python3"
    },
    "language_info": {
      "codemirror_mode": {
        "name": "ipython",
        "version": 3
      },
      "file_extension": ".py",
      "mimetype": "text/x-python",
      "name": "python",
      "nbconvert_exporter": "python",
      "pygments_lexer": "ipython3",
      "version": "3.11.5"
    },
    "colab": {
      "provenance": [],
      "include_colab_link": true
    }
  },
  "nbformat": 4,
  "nbformat_minor": 5
}