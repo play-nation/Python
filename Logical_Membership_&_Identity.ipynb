{
  "cells": [
    {
      "cell_type": "markdown",
      "metadata": {
        "id": "view-in-github",
        "colab_type": "text"
      },
      "source": [
        "<a href=\"https://colab.research.google.com/github/play-nation/Python/blob/main/Logical_Membership_%26_Identity.ipynb\" target=\"_parent\"><img src=\"https://colab.research.google.com/assets/colab-badge.svg\" alt=\"Open In Colab\"/></a>"
      ]
    },
    {
      "cell_type": "markdown",
      "id": "c6221b49",
      "metadata": {
        "id": "c6221b49"
      },
      "source": [
        "# Logical Operators in Python\n",
        "\n",
        "Logical operators are used to combine two or more conditions. The logical operators in Python are `and`, `or`, and `not`."
      ]
    },
    {
      "cell_type": "markdown",
      "id": "01806bd9",
      "metadata": {
        "id": "01806bd9"
      },
      "source": [
        "## Examples\n",
        "\n",
        "Let's see some examples of logical operators:"
      ]
    },
    {
      "cell_type": "code",
      "execution_count": null,
      "id": "fa099a98",
      "metadata": {
        "id": "fa099a98"
      },
      "outputs": [],
      "source": [
        "a = 6\n",
        "b = 20\n",
        "c = 50\n",
        "\n",
        "# Using 'and' operator\n",
        "print(a < b and b < c)  # True because both conditions are true\n",
        "\n",
        "# Using 'or' operator\n",
        "print(a > b or b < c)   # True because one of the conditions is true\n",
        "\n",
        "# Using 'not' operator\n",
        "print(not (a > b))      # True because the condition is false and 'not' negates it\n"
      ]
    },
    {
      "cell_type": "markdown",
      "id": "a4a5797b",
      "metadata": {
        "id": "a4a5797b"
      },
      "source": [
        "# Assignment Operators\n",
        "\n",
        "Python assignment operators are used to assign values to variables. The most commonly used assignment operator is `=`.\n",
        "\n",
        "### Example\n",
        "\n",
        "```python\n",
        "a = 10\n",
        "```"
      ]
    },
    {
      "cell_type": "markdown",
      "id": "14751f22",
      "metadata": {
        "id": "14751f22"
      },
      "source": [
        "# Compound Assignment Operators\n",
        "\n",
        "Python allows us to combine arithmetic and bitwise operators with the assignment operator. These are known as compound assignment operators.\n",
        "\n",
        "### Examples\n",
        "\n",
        "```python\n",
        "x = 5\n",
        "x += 2  # Equivalent to x = x + 2\n",
        "print(x)  # Output: 7\n",
        "\n",
        "y = 10\n",
        "y &= 3  # Equivalent to y = y & 3\n",
        "print(y)  # Output: 2\n",
        "```\n",
        "\n",
        "Python does not have increment (`++`) or decrement (`--`) operators. Attempting to use these will result in an error."
      ]
    },
    {
      "cell_type": "code",
      "execution_count": null,
      "id": "b7d381fa",
      "metadata": {
        "id": "b7d381fa"
      },
      "outputs": [],
      "source": [
        "# Example of using compound assignment operators\n",
        "x = 10\n",
        "x -= 4  # Equivalent to x = x - 4\n",
        "print(x)  # Output: 6\n",
        "\n",
        "y = 5\n",
        "y *= 3  # Equivalent to y = y * 3\n",
        "print(y)  # Output: 15\n",
        "\n",
        "z = 8\n",
        "z //= 2  # Equivalent to z = z // 2\n",
        "print(z)  # Output: 4\n"
      ]
    },
    {
      "cell_type": "markdown",
      "id": "1277093e",
      "metadata": {
        "id": "1277093e"
      },
      "source": [
        "# Identity Operators\n",
        "\n",
        "Identity operators in Python are `is` and `is not`. They are used to check if two variables refer to the same object in memory.\n",
        "\n",
        "### `is` Operator\n",
        "\n",
        "The `is` operator returns `True` if the operands refer to the same object, otherwise it returns `False`.\n",
        "\n",
        "### `is not` Operator\n",
        "\n",
        "The `is not` operator returns `True` if the operands do not refer to the same object, otherwise it returns `False`."
      ]
    },
    {
      "cell_type": "markdown",
      "id": "57852878",
      "metadata": {
        "id": "57852878"
      },
      "source": [
        "### Examples\n",
        "\n",
        "```python\n",
        "a = 10\n",
        "b = 10\n",
        "c = a\n",
        "\n",
        "print(a is b)  # True, because a and b refer to the same object\n",
        "print(a is c)  # True, because c is assigned to a\n",
        "\n",
        "d = [1, 2, 3]\n",
        "e = [1, 2, 3]\n",
        "\n",
        "print(d is e)  # False, because d and e refer to different objects\n",
        "print(d == e)  # True, because d and e have the same contents\n",
        "```\n"
      ]
    },
    {
      "cell_type": "code",
      "execution_count": null,
      "id": "800c0987",
      "metadata": {
        "id": "800c0987"
      },
      "outputs": [],
      "source": [
        "# Example of identity operators\n",
        "a = 20\n",
        "b = 20\n",
        "print(a is b)  # True, because a and b refer to the same object\n",
        "\n",
        "x = [1, 2, 3]\n",
        "y = [1, 2, 3]\n",
        "print(x is y)  # False, because x and y refer to different objects\n",
        "print(x == y)  # True, because x and y have the same contents\n",
        "\n",
        "# Using 'is not' operator\n",
        "print(a is not b)  # False, because a and b refer to the same object\n",
        "print(x is not y)  # True, because x and y refer to different objects\n"
      ]
    },
    {
      "cell_type": "markdown",
      "id": "65c28a6a",
      "metadata": {
        "id": "65c28a6a"
      },
      "source": [
        "# Questions\n",
        "\n",
        "1. What are the logical operators in Python?\n",
        "2. How do assignment operators work in Python? Provide an example.\n",
        "3. Explain the use of compound assignment operators with examples.\n",
        "4. What are identity operators in Python? Provide examples of `is` and `is not`.\n",
        "5. Why does Python not have increment (`++`) and decrement (`--`) operators?\n",
        "6. Write a code snippet to demonstrate the use of `is` and `is not` operators with lists."
      ]
    },
    {
      "cell_type": "markdown",
      "id": "92385522",
      "metadata": {
        "id": "92385522"
      },
      "source": [
        "# Answers\n",
        "\n",
        "1. The logical operators in Python are `and`, `or`, and `not`.\n",
        "2. Assignment operators in Python are used to assign values to variables. The most common assignment operator is `=`. For example:\n",
        "    ```python\n",
        "    a = 10\n",
        "    ```\n",
        "3. Compound assignment operators combine arithmetic or bitwise operations with assignment. For example:\n",
        "    ```python\n",
        "    x = 5\n",
        "    x += 2  # Equivalent to x = x + 2\n",
        "    print(x)  # Output: 7\n",
        "    ```\n",
        "4. Identity operators in Python are `is` and `is not`. They check if two variables refer to the same object in memory. For example:\n",
        "    ```python\n",
        "    a = 10\n",
        "    b = 10\n",
        "    print(a is b)  # True, because a and b refer to the same object\n",
        "    print(a is not b)  # False, because a and b refer to the same object\n",
        "    ```\n",
        "5. Python does not have increment (`++`) and decrement (`--`) operators because they are not necessary. Python provides other ways to increment or decrement values, such as `+=` and `-=`.\n",
        "6. Here is a code snippet to demonstrate the use of `is` and `is not` operators with lists:\n",
        "    ```python\n",
        "    x = [1, 2, 3]\n",
        "    y = [1, 2, 3]\n",
        "    print(x is y)  # False, because x and y refer to different objects\n",
        "    print(x == y)  # True, because x and y have the same contents\n",
        "    print(x is not y)  # True, because x and y refer to different objects\n",
        "    ```"
      ]
    },
    {
      "cell_type": "markdown",
      "id": "d80bd29e",
      "metadata": {
        "id": "d80bd29e"
      },
      "source": [
        "# Industry Use Cases\n",
        "\n",
        "1. **Logical Operators**: Used in decision-making processes, such as determining access controls in software applications.\n",
        "2. **Assignment Operators**: Used in variable initialization and value assignments throughout codebases.\n",
        "3. **Compound Assignment Operators**: Commonly used in loops and iterations for updating variable values.\n",
        "4. **Identity Operators**: Utilized in memory management and optimization to check object references and avoid redundant data storage."
      ]
    }
  ],
  "metadata": {
    "kernelspec": {
      "display_name": "Python 3 (ipykernel)",
      "language": "python",
      "name": "python3"
    },
    "language_info": {
      "codemirror_mode": {
        "name": "ipython",
        "version": 3
      },
      "file_extension": ".py",
      "mimetype": "text/x-python",
      "name": "python",
      "nbconvert_exporter": "python",
      "pygments_lexer": "ipython3",
      "version": "3.11.5"
    },
    "colab": {
      "provenance": [],
      "include_colab_link": true
    }
  },
  "nbformat": 4,
  "nbformat_minor": 5
}